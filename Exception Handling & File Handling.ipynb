{
 "cells": [
  {
   "cell_type": "markdown",
   "id": "7707d653",
   "metadata": {},
   "source": [
    "<img src=\"http://drive.google.com/uc?export=view&id=1JzM1Jig5KAOCvU4tIf2t66B3gd1uy1rG\" width=500px>\n",
    "\n",
    "Proprietary content. Â© Great Learning. All Rights Reserved. Unauthorized use or distribution prohibited."
   ]
  },
  {
   "cell_type": "markdown",
   "id": "6db45a3a",
   "metadata": {},
   "source": [
    "### <font color=\"blue\"> Implement the login application where we persist all the login credentials in the text file. Now we use the file for checking the validity of login credentials.<font>\n",
    "\n",
    "Functional Requirements:\n",
    "\n",
    "    1. Saving login data in the format : <username, password> in the login data file.\n",
    "    2. Load login data in dictionary having the data structure as {username: password}, where the username is the key and password is the value.\n",
    "    3. Checking login credentials given username and password\n"
   ]
  },
  {
   "cell_type": "code",
   "execution_count": 3,
   "id": "209ac9f7",
   "metadata": {},
   "outputs": [],
   "source": [
    "# LOGIN_DATA has login credentials having the format as {username : password} \n",
    "# where username is key and password is the value. \n",
    "# So while checking the username and validating with password takes constant time.\n",
    "\n",
    "LOGIN_DATA = dict()"
   ]
  },
  {
   "cell_type": "code",
   "execution_count": 4,
   "id": "131d061b",
   "metadata": {},
   "outputs": [],
   "source": [
    "\n",
    "# This function takes filename as input and returns the file handle for further processing\n",
    "\n",
    "def read_login_file(file_name):\n",
    "    login_details_file = None\n",
    "    try:\n",
    "        login_details_file = open(file_name, 'r')\n",
    "        return login_details_file\n",
    "    \n",
    "    except FileNotFoundError as e:\n",
    "        print(str(e))"
   ]
  },
  {
   "cell_type": "code",
   "execution_count": 13,
   "id": "7df6ed4c",
   "metadata": {},
   "outputs": [],
   "source": [
    "# This function takes filename as input and loads the login data in LOGIN_DATA dictionary.\n",
    "\n",
    "def load_login_data(file_name):\n",
    "    try:\n",
    "        login_details_file = read_login_file(file_name)\n",
    "        \n",
    "        if login_details_file is None:\n",
    "            print(\"Unable to read credentials file.\")\n",
    "            return\n",
    "        \n",
    "        for current_line in login_details_file.readlines():\n",
    "            current_line = current_line.split(\" \")\n",
    "            username = current_line[0]\n",
    "            password = current_line[1]\n",
    "            LOGIN_DATA[username] = password\n",
    "            \n",
    "        print(\"Login data successfully loaded.\")\n",
    "        \n",
    "        return\n",
    "    \n",
    "    except FileNotFoundError as e:\n",
    "        print(str(e))\n",
    "        return\n",
    "    \n",
    "    except Exception as e:\n",
    "        print(str(e))\n",
    "        return"
   ]
  },
  {
   "cell_type": "code",
   "execution_count": 6,
   "id": "eb73cdf9",
   "metadata": {},
   "outputs": [],
   "source": [
    "# This function takes username and password as input and checks the vailidity using LOGIN_DATA dictionary \n",
    "\n",
    "def check_login_creds(username, password):\n",
    "    try:\n",
    "        if username in LOGIN_DATA and LOGIN_DATA[username] == password+'\\n':\n",
    "            print(f\"{username} is successfully loggedin.\")\n",
    "            return\n",
    "        else:\n",
    "            print(\"Invalid Credentials\")\n",
    "            return\n",
    "    except Exception as e:\n",
    "        print(str(e))\n",
    "        return"
   ]
  },
  {
   "cell_type": "code",
   "execution_count": 9,
   "id": "2b19c65e",
   "metadata": {},
   "outputs": [],
   "source": [
    "# This function takes username, password and file_name as input and saves the login data in the respective file\n",
    "\n",
    "def save_login_data(username, password, file_name):\n",
    "    try:\n",
    "        login_data_file = open(file_name, 'a')\n",
    "        login_data = [f'{username} {password}', '\\n']\n",
    "        login_data_file.writelines(login_data)\n",
    "        login_data_file.close()\n",
    "        return \n",
    "    \n",
    "    except FileExistsError as e:\n",
    "        print(str(e))\n",
    "        return"
   ]
  },
  {
   "cell_type": "code",
   "execution_count": 14,
   "id": "b611a92a",
   "metadata": {},
   "outputs": [
    {
     "name": "stdout",
     "output_type": "stream",
     "text": [
      "Login data successfully loaded.\n",
      "williams is successfully loggedin.\n",
      "Invalid Credentials\n"
     ]
    }
   ],
   "source": [
    "#Drive Code\n",
    "\n",
    "if __name__ == \"__main__\":\n",
    "    \n",
    "    file_name = 'login_data_file.txt'\n",
    "    \n",
    "    save_login_data('richard1992', 'rich1992', file_name)\n",
    "    save_login_data('jon1998', 'jo1998', file_name)\n",
    "    save_login_data('williams', 'will1992', file_name)\n",
    "    save_login_data('snow1965', '1965snow', file_name)\n",
    "    save_login_data('dustun1997', 'duston', file_name)\n",
    "    \n",
    "    load_login_data(file_name)\n",
    "    \n",
    "    username = 'williams'\n",
    "    password = 'will1992'\n",
    "    \n",
    "    check_login_creds(username, password)\n",
    "    \n",
    "    username = 'duster'\n",
    "    password = 'duster1992'\n",
    "    \n",
    "    check_login_creds(username, password)"
   ]
  },
  {
   "cell_type": "code",
   "execution_count": null,
   "id": "4962033f",
   "metadata": {},
   "outputs": [],
   "source": []
  }
 ],
 "metadata": {
  "kernelspec": {
   "display_name": "Python 3 (ipykernel)",
   "language": "python",
   "name": "python3"
  },
  "language_info": {
   "codemirror_mode": {
    "name": "ipython",
    "version": 3
   },
   "file_extension": ".py",
   "mimetype": "text/x-python",
   "name": "python",
   "nbconvert_exporter": "python",
   "pygments_lexer": "ipython3",
   "version": "3.8.10"
  }
 },
 "nbformat": 4,
 "nbformat_minor": 5
}
